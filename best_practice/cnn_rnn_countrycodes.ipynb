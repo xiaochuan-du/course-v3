{
 "cells": [
  {
   "cell_type": "code",
   "execution_count": 1,
   "metadata": {},
   "outputs": [],
   "source": [
    "%matplotlib inline\n",
    "import matplotlib.pyplot as plt\n",
    "import pandas as pd\n",
    "import numpy as np\n",
    "from pathlib import Path\n",
    "\n",
    "from fastai import *\n",
    "from fastai.vision import *\n",
    "import pretrainedmodels\n",
    "from fastai.callbacks.tracker import *\n",
    "from fastai.callbacks.hooks import *\n",
    "from torch.utils.data import Sampler, BatchSampler\n",
    "import json\n",
    "\n",
    "from utils import *"
   ]
  },
  {
   "cell_type": "markdown",
   "metadata": {},
   "source": [
    "The below is useful if you would like to get updates in your notebook on training as you would in console.\n",
    "\n",
    "My workflow is -> fire up an instance -> start jupyter notebook in tmux -> start training -> disconnect\n",
    "\n",
    "(this gives you one update per epoch - with the regular progress bar chances are you will hit a time out before all the updates that were buffered get forwarded to your browser upon reconnection)"
   ]
  },
  {
   "cell_type": "code",
   "execution_count": null,
   "metadata": {},
   "outputs": [],
   "source": [
    "# import fastai\n",
    "# from fastprogress import force_console_behavior\n",
    "# import fastprogress\n",
    "# fastprogress.fastprogress.NO_BAR = True\n",
    "# master_bar, progress_bar = force_console_behavior()\n",
    "# fastai.basic_train.master_bar, fastai.basic_train.progress_bar = master_bar, progress_bar"
   ]
  },
  {
   "cell_type": "code",
   "execution_count": 2,
   "metadata": {},
   "outputs": [],
   "source": [
    "PATH = Path('data/txt')"
   ]
  },
  {
   "cell_type": "markdown",
   "metadata": {},
   "source": [
    "###  Create ImageDataBunch using the data block API"
   ]
  },
  {
   "cell_type": "code",
   "execution_count": 3,
   "metadata": {},
   "outputs": [],
   "source": [
    "sz_lrg, sz_small = 192, 96\n",
    "bs = 520"
   ]
  },
  {
   "cell_type": "code",
   "execution_count": 4,
   "metadata": {},
   "outputs": [
    {
     "data": {
      "text/plain": [
       "218"
      ]
     },
     "execution_count": 4,
     "metadata": {},
     "output_type": "execute_result"
    }
   ],
   "source": [
    "batch_stats_lrg = pd.read_pickle(f'data/batch_stats_{sz_lrg}.pkl')\n",
    "batch_stats_lrg = batch_stats_lrg[0][:, None, None], batch_stats_lrg[1][:, None, None]\n",
    "\n",
    "batch_stats_small = pd.read_pickle(f'data/batch_stats_{sz_small}.pkl')\n",
    "batch_stats_small = batch_stats_small[0][:, None, None], batch_stats_small[1][:, None, None]\n",
    "\n",
    "country2code = {v: k for k, v in enumerate(pd.read_pickle('data/countrycodes.pkl'))}\n",
    "codes_count = len(country2code); codes_count"
   ]
  },
  {
   "cell_type": "code",
   "execution_count": 5,
   "metadata": {},
   "outputs": [],
   "source": [
    "seq_max_len = 68\n",
    "\n",
    "def create_func(path):\n",
    "    with open(path) as f: j = json.load(f)\n",
    "    \n",
    "    drawing_lrg = list2drawing(j['drawing'], size=sz_lrg, time_color=True)\n",
    "    tensor_lrg = drawing2tensor(drawing_lrg)\n",
    "    tensor_lrg.div_(255).sub_(batch_stats_lrg[0]).div_(batch_stats_lrg[1])\n",
    "    \n",
    "    drawing_small = list2drawing(j['drawing'], size=sz_small, time_color=True)\n",
    "    tensor_small = drawing2tensor(drawing_small)\n",
    "    tensor_small.div_(255).sub_(batch_stats_small[0]).div_(batch_stats_small[1])\n",
    "    \n",
    "    ary = drawing2seq(j['drawing'])\n",
    "    seq = np.zeros((seq_max_len, 3))\n",
    "    seq[-ary.shape[0]:, :] = ary[:seq_max_len, :]\n",
    "    \n",
    "    country_code = country2code[j['countrycode']] if j['countrycode'] in country2code.keys() else 0\n",
    "    return tensor_lrg, tensor_small, seq.astype(np.float32), country_code"
   ]
  },
  {
   "cell_type": "code",
   "execution_count": 6,
   "metadata": {},
   "outputs": [
    {
     "name": "stdout",
     "output_type": "stream",
     "text": [
      "CPU times: user 10min 2s, sys: 4min 58s, total: 15min 1s\n",
      "Wall time: 20min 14s\n"
     ]
    }
   ],
   "source": [
    "%%time\n",
    "item_list = ItemList.from_folder(PATH/'train', create_func=create_func)\n",
    "item_lists = item_list.random_split_by_pct(0.002, seed=0)"
   ]
  },
  {
   "cell_type": "code",
   "execution_count": 8,
   "metadata": {},
   "outputs": [],
   "source": [
    "# label_lists = item_lists.label_from_folder()\n",
    "# pd.to_pickle(label_lists.train.y.classes, 'data/classes.pkl')"
   ]
  },
  {
   "cell_type": "code",
   "execution_count": 9,
   "metadata": {},
   "outputs": [],
   "source": [
    "classes = pd.read_pickle('data/classes.pkl')\n",
    "\n",
    "label_lists = item_lists.label_from_folder(classes=classes)\n",
    "\n",
    "test_items = ItemList.from_folder(PATH/'test', create_func=create_func)\n",
    "label_lists.add_test(test_items);"
   ]
  },
  {
   "cell_type": "code",
   "execution_count": 10,
   "metadata": {},
   "outputs": [],
   "source": [
    "train_dl = DataLoader(\n",
    "    label_lists.train,\n",
    "    num_workers=64,\n",
    "    batch_sampler=BatchSampler(RandomSamplerWithEpochSize(label_lists.train, 200_000), bs, True)\n",
    ")\n",
    "valid_dl = DataLoader(label_lists.valid, bs, False, num_workers=12)\n",
    "test_dl = DataLoader(label_lists.test, bs, False, num_workers=12)\n",
    "\n",
    "data_bunch = ImageDataBunch(train_dl, valid_dl, test_dl)"
   ]
  },
  {
   "cell_type": "markdown",
   "metadata": {},
   "source": [
    "### Train"
   ]
  },
  {
   "cell_type": "code",
   "execution_count": 11,
   "metadata": {},
   "outputs": [],
   "source": [
    "name = 'resnet50-incv4'"
   ]
  },
  {
   "cell_type": "code",
   "execution_count": 12,
   "metadata": {},
   "outputs": [],
   "source": [
    "class ConvBlock(nn.Module):\n",
    "    def __init__(self, c_in, c_out, k):\n",
    "        super().__init__()\n",
    "        self.conv = nn.Conv1d(c_in, c_out, k)\n",
    "        self.bn = nn.BatchNorm1d(c_out)\n",
    "    def forward(self, x):\n",
    "        x = self.conv(x)\n",
    "        x = F.relu(x)\n",
    "        x = self.bn(x)\n",
    "        return x\n",
    "\n",
    "class RNNBlock(nn.Module):\n",
    "    def __init__(self, inp_sz, hidden_sz=128, num_l=1, bi=False, last_h=False):\n",
    "        super().__init__()\n",
    "        self.rnn = nn.LSTM(input_size=inp_sz, hidden_size=hidden_sz, num_layers=num_l, bidirectional=bi)\n",
    "        self.last_h = last_h\n",
    "    def forward(self, x):\n",
    "        x = self.rnn(x)[0]\n",
    "        if self.last_h: x = x[-1]\n",
    "        x = F.relu(x)\n",
    "        return x\n",
    "\n",
    "cnn_lstm = nn.Sequential(*[\n",
    "    Lambda(lambda x: x.transpose(2,1)),\n",
    "    ConvBlock(3, 48, 5),\n",
    "    ConvBlock(48, 64, 5),\n",
    "    ConvBlock(64, 96, 5),\n",
    "    Lambda(lambda x: x.permute(2,0,1)),\n",
    "    RNNBlock(96),\n",
    "    RNNBlock(128, last_h=True),\n",
    "    Lambda(lambda x: x.squeeze()),\n",
    "])"
   ]
  },
  {
   "cell_type": "code",
   "execution_count": 13,
   "metadata": {},
   "outputs": [],
   "source": [
    "COUNTRY_EMB_SZ = 20\n",
    "\n",
    "class MixedInputModel(nn.Module):\n",
    "    def __init__(self):\n",
    "        super().__init__()\n",
    "        self.conv_lrg = nn.Sequential(create_body(models.resnet50(True), -2), nn.AdaptiveAvgPool2d(1))\n",
    "        self.conv_small = create_body(pretrainedmodels.inceptionv4(), -2)\n",
    "        self.cnn_lstm = cnn_lstm\n",
    "        self.country_emb = nn.Embedding(codes_count, COUNTRY_EMB_SZ)\n",
    "        head_inp_sz = num_features_model(self.conv_lrg) + \\\n",
    "            model_sizes(self.conv_small, (96, 96), False)[-1][1] + self.country_emb.embedding_dim + cnn_lstm[6].rnn.hidden_size\n",
    "#         self.head = create_head(head_inp_sz, 340)[2:]\n",
    "        self.head = create_head(head_inp_sz, 340, ps=0, lin_ftrs=[4000, 2000])[2:]\n",
    "        \n",
    "    def forward(self, drawings_lrg, drawings_small, seqs, country_codes):\n",
    "        x = torch.cat(\n",
    "            (\n",
    "                self.conv_lrg(drawings_lrg).squeeze(),\n",
    "                self.conv_small(drawings_small).squeeze(),\n",
    "                self.cnn_lstm(seqs.float()),\n",
    "                self.country_emb(country_codes)\n",
    "            ),\n",
    "            -1\n",
    "        )\n",
    "        return self.head(x)"
   ]
  },
  {
   "cell_type": "code",
   "execution_count": 30,
   "metadata": {},
   "outputs": [],
   "source": [
    "learn = Learner(data_bunch, MixedInputModel(), metrics=[accuracy, map3])"
   ]
  },
  {
   "cell_type": "code",
   "execution_count": 31,
   "metadata": {},
   "outputs": [],
   "source": [
    "learn.model = nn.DataParallel(learn.model)"
   ]
  },
  {
   "cell_type": "code",
   "execution_count": 18,
   "metadata": {},
   "outputs": [
    {
     "name": "stdout",
     "output_type": "stream",
     "text": [
      "LR Finder is complete, type {learner_name}.recorder.plot() to see the graph.\n"
     ]
    }
   ],
   "source": [
    "learn.lr_find()"
   ]
  },
  {
   "cell_type": "code",
   "execution_count": 19,
   "metadata": {},
   "outputs": [
    {
     "data": {
      "image/png": "[encoded data removed]",
      "text/plain": [
       "<Figure size 432x288 with 1 Axes>"
      ]
     },
     "metadata": {
      "needs_background": "light"
     },
     "output_type": "display_data"
    }
   ],
   "source": [
    "learn.recorder.plot()"
   ]
  },
  {
   "cell_type": "markdown",
   "metadata": {},
   "source": [
    "... did some training here ..."
   ]
  },
  {
   "cell_type": "markdown",
   "metadata": {},
   "source": [
    "### Replacing the classifier"
   ]
  },
  {
   "cell_type": "markdown",
   "metadata": {},
   "source": [
    "Freezing your arch can be very helpful for trying out a new classifier (head)! As it turned out, with a bigger classifer, I jumped 100 spots on the public LB!\n",
    "\n",
    "(cnn_lstm etc are submodules of module which is added through DataParallel)"
   ]
  },
  {
   "cell_type": "code",
   "execution_count": 42,
   "metadata": {},
   "outputs": [],
   "source": [
    "state_dict = torch.load('models/resnet50-incv4-2e-05.pth')"
   ]
  },
  {
   "cell_type": "code",
   "execution_count": 53,
   "metadata": {},
   "outputs": [],
   "source": [
    "keys = list(state_dict.keys())"
   ]
  },
  {
   "cell_type": "code",
   "execution_count": 54,
   "metadata": {},
   "outputs": [],
   "source": [
    "for k in keys:\n",
    "    if 'module.head' in k: del state_dict[k]"
   ]
  },
  {
   "cell_type": "markdown",
   "metadata": {},
   "source": [
    "At this point I modify the architecture above and rerun the cells. I have the state_dict ready so all I need is to load it.\n",
    "\n",
    "(the weights in the lower level of the model have been retained - I will need to train the classifier from scratch, it has been reinitialized with random weights)"
   ]
  },
  {
   "cell_type": "code",
   "execution_count": 56,
   "metadata": {},
   "outputs": [],
   "source": [
    "learn.model.load_state_dict(state_dict, False)"
   ]
  },
  {
   "cell_type": "markdown",
   "metadata": {},
   "source": [
    "Freezing submodules"
   ]
  },
  {
   "cell_type": "code",
   "execution_count": 59,
   "metadata": {},
   "outputs": [],
   "source": [
    "for m in [learn.model.module.cnn_lstm, learn.model.module.conv_lrg, learn.model.module.conv_small]:\n",
    "    requires_grad(m, False)"
   ]
  },
  {
   "cell_type": "code",
   "execution_count": 60,
   "metadata": {},
   "outputs": [
    {
     "name": "stdout",
     "output_type": "stream",
     "text": [
      "LR Finder is complete, type {learner_name}.recorder.plot() to see the graph.\n"
     ]
    }
   ],
   "source": [
    "learn.lr_find()"
   ]
  },
  {
   "cell_type": "code",
   "execution_count": 61,
   "metadata": {},
   "outputs": [
    {
     "data": {
      "image/png": "[encoded data removed]",
      "text/plain": [
       "<Figure size 432x288 with 1 Axes>"
      ]
     },
     "metadata": {
      "needs_background": "light"
     },
     "output_type": "display_data"
    }
   ],
   "source": [
    "learn.recorder.plot()"
   ]
  },
  {
   "cell_type": "code",
   "execution_count": 62,
   "metadata": {},
   "outputs": [
    {
     "name": "stdout",
     "output_type": "stream",
     "text": [
      "Total time: 32:31\n",
      "epoch  train_loss  valid_loss  accuracy  map3     \n",
      "1      0.997846    9271.355469  0.744080  0.812822  (08:08)\n",
      "2      0.858220    1105.838989  0.777960  0.840417  (08:07)\n",
      "3      0.696471    2100.821289  0.796980  0.852824  (08:06)\n",
      "4      0.520798    1567.136353  0.805950  0.859583  (08:08)\n",
      "\n"
     ]
    }
   ],
   "source": [
    "learn.fit_one_cycle(4, 5e-3)"
   ]
  },
  {
   "cell_type": "markdown",
   "metadata": {},
   "source": [
    "And then I unfreeze the whole model and resume training..."
   ]
  },
  {
   "cell_type": "markdown",
   "metadata": {},
   "source": [
    "### Making changes to batch norm"
   ]
  },
  {
   "cell_type": "markdown",
   "metadata": {},
   "source": [
    "Maybe you might have a need to stop tracking runnining mean an sd in your batchnorm layers - here is how to do it. You can also update the momentum with which stats are tracked in similar fashion."
   ]
  },
  {
   "cell_type": "code",
   "execution_count": 65,
   "metadata": {},
   "outputs": [],
   "source": [
    "for l in flatten_model(learn.model):\n",
    "    if type(l) == nn.BatchNorm1d or type(l) == nn.BatchNorm2d:\n",
    "        l.track_running_stats = False"
   ]
  },
  {
   "cell_type": "markdown",
   "metadata": {},
   "source": [
    "There can be a situation in which the activations of your model change quickly enough where the running stats just cannot keep up. Take a look below:"
   ]
  },
  {
   "cell_type": "code",
   "execution_count": 87,
   "metadata": {},
   "outputs": [
    {
     "name": "stdout",
     "output_type": "stream",
     "text": [
      "Total time: 10:28\n",
      "epoch  train_loss  valid_loss  accuracy  map3    \n",
      "1      0.520851    143.771622  0.802850  0.858103  (10:28)\n",
      "\n"
     ]
    }
   ],
   "source": [
    "learn.fit(1, 5e-4)"
   ]
  },
  {
   "cell_type": "markdown",
   "metadata": {},
   "source": [
    "The validation loss does not track the train loss (often the accuracy will also be affected).\n",
    "\n",
    "There are no hard rules to follow here, the point is that you might run into a situation such as this and there is no reason to be too concerned.\n",
    "\n",
    "In general, this should go away once you start training with a lower learning rate.\n",
    "\n",
    "There is quite a bit of information online (predominantly on pytorch forums) that you can look up if you do encounter this scenario or should the problem not go away on its own.\n",
    "\n",
    "One other think to note here - the default value of momentum in pytorch for a batchnorm layer is 0.9 and 0.99 in keras. As this has an exponential effect on how stats are accumulated, this can make quite a big difference."
   ]
  },
  {
   "cell_type": "markdown",
   "metadata": {},
   "source": [
    "### Predict"
   ]
  },
  {
   "cell_type": "code",
   "execution_count": 49,
   "metadata": {},
   "outputs": [],
   "source": [
    "preds, _ = learn.get_preds(ds_type=DatasetType.Test)"
   ]
  },
  {
   "cell_type": "markdown",
   "metadata": {},
   "source": [
    "Downloading some of the preds as I thought I might continue working on this on another machine"
   ]
  },
  {
   "cell_type": "code",
   "execution_count": 59,
   "metadata": {},
   "outputs": [
    {
     "data": {
      "text/html": [
       "<a href='preds/test_preds' target='_blank'>preds/test_preds</a><br>"
      ],
      "text/plain": [
       "/home/radek/quickdraw/preds/test_preds"
      ]
     },
     "execution_count": 59,
     "metadata": {},
     "output_type": "execute_result"
    }
   ],
   "source": [
    "from IPython.display import FileLink\n",
    "FileLink('preds/test_preds')"
   ]
  },
  {
   "cell_type": "code",
   "execution_count": 55,
   "metadata": {},
   "outputs": [],
   "source": [
    "create_submission(preds, data_bunch.test_dl, name, classes)"
   ]
  },
  {
   "cell_type": "code",
   "execution_count": 56,
   "metadata": {},
   "outputs": [
    {
     "data": {
      "text/html": [
       "<div>\n",
       "<style scoped>\n",
       "    .dataframe tbody tr th:only-of-type {\n",
       "        vertical-align: middle;\n",
       "    }\n",
       "\n",
       "    .dataframe tbody tr th {\n",
       "        vertical-align: top;\n",
       "    }\n",
       "\n",
       "    .dataframe thead th {\n",
       "        text-align: right;\n",
       "    }\n",
       "</style>\n",
       "<table border=\"1\" class=\"dataframe\">\n",
       "  <thead>\n",
       "    <tr style=\"text-align: right;\">\n",
       "      <th></th>\n",
       "      <th>key_id</th>\n",
       "      <th>word</th>\n",
       "    </tr>\n",
       "  </thead>\n",
       "  <tbody>\n",
       "    <tr>\n",
       "      <th>0</th>\n",
       "      <td>9982748469652562</td>\n",
       "      <td>rollerskates roller_coaster tractor</td>\n",
       "    </tr>\n",
       "    <tr>\n",
       "      <th>1</th>\n",
       "      <td>9730298586740955</td>\n",
       "      <td>drill screwdriver megaphone</td>\n",
       "    </tr>\n",
       "    <tr>\n",
       "      <th>2</th>\n",
       "      <td>9495303600236565</td>\n",
       "      <td>matches paintbrush asparagus</td>\n",
       "    </tr>\n",
       "    <tr>\n",
       "      <th>3</th>\n",
       "      <td>9076379423232894</td>\n",
       "      <td>saxophone clarinet trombone</td>\n",
       "    </tr>\n",
       "    <tr>\n",
       "      <th>4</th>\n",
       "      <td>9278326467147683</td>\n",
       "      <td>The_Mona_Lisa face mermaid</td>\n",
       "    </tr>\n",
       "  </tbody>\n",
       "</table>\n",
       "</div>"
      ],
      "text/plain": [
       "             key_id                                 word\n",
       "0  9982748469652562  rollerskates roller_coaster tractor\n",
       "1  9730298586740955          drill screwdriver megaphone\n",
       "2  9495303600236565         matches paintbrush asparagus\n",
       "3  9076379423232894          saxophone clarinet trombone\n",
       "4  9278326467147683           The_Mona_Lisa face mermaid"
      ]
     },
     "execution_count": 56,
     "metadata": {},
     "output_type": "execute_result"
    }
   ],
   "source": [
    "pd.read_csv(f'subs/{name}.csv.gz').head()"
   ]
  },
  {
   "cell_type": "code",
   "execution_count": 57,
   "metadata": {},
   "outputs": [
    {
     "name": "stdout",
     "output_type": "stream",
     "text": [
      "100%|██████████████████████████████████████| 1.50M/1.50M [00:00<00:00, 6.02MB/s]\n",
      "Successfully submitted to Quick, Draw! Doodle Recognition Challenge"
     ]
    }
   ],
   "source": [
    "!kaggle competitions submit -c quickdraw-doodle-recognition -f subs/{name}.csv.gz -m \"{name}\""
   ]
  }
 ],
 "metadata": {
  "kernelspec": {
   "display_name": "Python 3",
   "language": "python",
   "name": "python3"
  },
  "language_info": {
   "codemirror_mode": {
    "name": "ipython",
    "version": 3
   },
   "file_extension": ".py",
   "mimetype": "text/x-python",
   "name": "python",
   "nbconvert_exporter": "python",
   "pygments_lexer": "ipython3",
   "version": "3.7.0"
  }
 },
 "nbformat": 4,
 "nbformat_minor": 2
}
